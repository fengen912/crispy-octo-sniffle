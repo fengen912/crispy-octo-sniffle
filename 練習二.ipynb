{
 "cells": [
  {
   "cell_type": "code",
   "execution_count": 41,
   "id": "b91076b6",
   "metadata": {
    "scrolled": true
   },
   "outputs": [
    {
     "name": "stdout",
     "output_type": "stream",
     "text": [
      "------------------------------------------------------\n",
      "apples oranges cherries banana \n",
      " Alice     Bob    Carol  David \n",
      "  dogs    cats    moose  goose \n",
      "------------------------------------------------------\n"
     ]
    }
   ],
   "source": [
    "tableData =[['apples', 'oranges', 'cherries', 'banana'],\n",
    "            ['Alice', 'Bob', 'Carol', 'David'],\n",
    "            ['dogs', 'cats', 'moose', 'goose']]\n",
    "\n",
    "def printTable(tableData):\n",
    "    if not tableData:\n",
    "        print(\"Empty table\")\n",
    "        return\n",
    "    \n",
    "    d=[max(len(str(w[i]))for w in tableData)for i in range(len(tableData[0]))]\n",
    "    print(\"-\"*(sum(d)*2))\n",
    "    \n",
    "    for w in tableData:\n",
    "        for i in range(len(w)):\n",
    "            print(f\"{str(w[i]).rjust(d[i])}\")\n",
    "        print()\n",
    "    \n",
    "    print(\"-\"*(sum(d)*2))\n",
    "printTable(tableData)"
   ]
  },
  {
   "cell_type": "code",
   "execution_count": 26,
   "id": "79eececd",
   "metadata": {},
   "outputs": [
    {
     "name": "stdout",
     "output_type": "stream",
     "text": [
      "-----------------------------------\n",
      "apples \n",
      "oranges \n",
      "cherries \n",
      "banana \n",
      " Alice \n",
      "    Bob \n",
      "   Carol \n",
      " David \n",
      "  dogs \n",
      "   cats \n",
      "   moose \n",
      " goose \n"
     ]
    }
   ],
   "source": [
    "tableData =[\n",
    "    ['apples', 'oranges', 'cherries', 'banana'],\n",
    "    ['Alice', 'Bob', 'Carol', 'David'],\n",
    "    ['dogs', 'cats', 'moose', 'goose']]\n",
    "\n",
    "def printTable(data):\n",
    "    if not data:\n",
    "        print(\"empty\")\n",
    "    d = [max(len(str(w[i])) for w in data)for i in range(len(data[0]))]\n",
    "    print(\"-\" * (sum(d) + len(d) * 2))\n",
    "    \n",
    "    for w in data:\n",
    "        for i in range(len(w)):\n",
    "            print(f\"{str(w[i]).rjust(d[i])}\", end = \" \")\n",
    "            print()\n",
    "printTable(tableData)"
   ]
  },
  {
   "cell_type": "code",
   "execution_count": 30,
   "id": "f2827cce",
   "metadata": {},
   "outputs": [
    {
     "name": "stdout",
     "output_type": "stream",
     "text": [
      "-----------------------------------\n",
      "apples oranges cherries banana \n",
      " Alice     Bob    Carol  David \n",
      "  dogs    cats    moose  goose \n"
     ]
    }
   ],
   "source": [
    "tableData = [\n",
    "    ['apples', 'oranges', 'cherries', 'banana'],\n",
    "    ['Alice', 'Bob', 'Carol', 'David'],\n",
    "    ['dogs', 'cats', 'moose', 'goose']]\n",
    "\n",
    "def printTable(data):\n",
    "    if not data:\n",
    "        print(\"empty\")\n",
    "        return\n",
    "    d = [max(len(str(w[i])) for w in data)for i in range(len(data[0]))]\n",
    "    print(\"-\" * (sum(d) + len(d) * 2))\n",
    "    \n",
    "    for w in data:\n",
    "        for i in range(len(w)):\n",
    "            print(f\"{str(w[i]).rjust(d[i])}\", end = \" \")\n",
    "        print()\n",
    "    print(\"-\" * (sum(d) + len(d) * 2))\n",
    "printTable(tableData)"
   ]
  },
  {
   "cell_type": "code",
   "execution_count": 28,
   "id": "a60cf453",
   "metadata": {},
   "outputs": [
    {
     "name": "stdout",
     "output_type": "stream",
     "text": [
      "-----------------------------------\n",
      "apples oranges cherries banana \n",
      "Alice  Bob     Carol    David  \n",
      "dogs   cats    moose    goose  \n",
      "-----------------------------------\n"
     ]
    }
   ],
   "source": [
    "#tabledata 可以放在後面或是return之外\n",
    "tableData = [\n",
    "    ['apples', 'oranges', 'cherries', 'banana'],\n",
    "    ['Alice', 'Bob', 'Carol', 'David'],\n",
    "    ['dogs', 'cats', 'moose', 'goose']]\n",
    "\n",
    "def printTable(data):\n",
    "    if not data: #確保串列有東西可以計算\n",
    "        print(\"Empty table\")\n",
    "        return\n",
    "\n",
    "    #計算最大寬度\n",
    "    d = [max(len(str(w[i])) for w in data) for i in range(len(data[0]))] \n",
    "    \n",
    "    print(\"-\" * (sum(d) + len(d) * 2)) #輸出上隔線\n",
    "    \n",
    "    #輸出數據\n",
    "    for w in data:\n",
    "        for i in range(len(w)):\n",
    "            print(f\"{str(w[i]).ljust(d[i])}\", end=\" \")\n",
    "        print()\n",
    "        \n",
    "    print(\"-\" * (sum(d) + len(d) * 2)) #輸出下隔線\n",
    "    \n",
    "#輸出printTable\n",
    "printTable(tableData)\n"
   ]
  }
 ],
 "metadata": {
  "kernelspec": {
   "display_name": "Python 3 (ipykernel)",
   "language": "python",
   "name": "python3"
  },
  "language_info": {
   "codemirror_mode": {
    "name": "ipython",
    "version": 3
   },
   "file_extension": ".py",
   "mimetype": "text/x-python",
   "name": "python",
   "nbconvert_exporter": "python",
   "pygments_lexer": "ipython3",
   "version": "3.11.4"
  }
 },
 "nbformat": 4,
 "nbformat_minor": 5
}
